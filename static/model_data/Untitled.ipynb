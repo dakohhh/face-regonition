{
 "cells": [
  {
   "cell_type": "code",
   "execution_count": 84,
   "id": "4cb39746-424d-44b8-aade-44be8a0b2ae2",
   "metadata": {},
   "outputs": [],
   "source": [
    "from sklearn.model_selection import train_test_split\n",
    "import tensorflow as tf\n",
    "import numpy as np\n",
    "import os\n",
    "import cv2\n",
    "import matplotlib.pyplot as plt\n",
    "from sklearn.linear_model import LogisticRegression"
   ]
  },
  {
   "cell_type": "code",
   "execution_count": 69,
   "id": "2cc8fb70",
   "metadata": {},
   "outputs": [],
   "source": [
    "import face_recognition"
   ]
  },
  {
   "cell_type": "code",
   "execution_count": 70,
   "id": "39407366-766f-423f-a988-b89ea00a8d8f",
   "metadata": {},
   "outputs": [
    {
     "name": "stdout",
     "output_type": "stream",
     "text": [
      "0.jpg\n",
      "1.jpg\n",
      "2.jpg\n",
      "3.jpg\n",
      "4.jpg\n",
      "5.jpg\n",
      "6.jpg\n"
     ]
    }
   ],
   "source": [
    "x = []\n",
    "\n",
    "y = []\n",
    "\n",
    "\n",
    "for filename in os.listdir(os.path.join(os.getcwd(), \"64c5514934b192a36e68ab14\")):\n",
    "    print(filename)\n",
    "    image = face_recognition.load_image_file(os.path.join(os.getcwd(), \"64c5514934b192a36e68ab14\", filename))\n",
    "    \n",
    "    face_locations = face_recognition.face_locations(image)\n",
    "    \n",
    "    img_cv2 = cv2.imread(os.path.join(os.getcwd(), f\"64c5514934b192a36e68ab14/{filename}\"))    \n",
    "    \n",
    "    top, right, bottom, left = face_locations[0]\n",
    "    \n",
    "    cropped_face = img_cv2[top:bottom, left:right]\n",
    "    \n",
    "    grayscale_image = cv2.cvtColor(cropped_face, cv2.COLOR_BGR2GRAY)\n",
    "    \n",
    "    scaled_cropped_grayscale_image = cv2.resize(grayscale_image, (40, 40))\n",
    "    \n",
    "    x.append(scaled_cropped_grayscale_image)\n",
    "    \n",
    "    y.append(0)\n",
    "                         "
   ]
  },
  {
   "cell_type": "code",
   "execution_count": 71,
   "id": "59950a07",
   "metadata": {},
   "outputs": [
    {
     "name": "stdout",
     "output_type": "stream",
     "text": [
      "0.jpg\n",
      "1.jpg\n",
      "2.jpg\n"
     ]
    }
   ],
   "source": [
    "for filename in os.listdir(os.path.join(os.getcwd(), \"64c5783c513fe900cd712d52\")):\n",
    "    print(filename)\n",
    "    image = face_recognition.load_image_file(os.path.join(os.getcwd(), \"64c5783c513fe900cd712d52\", filename))\n",
    "    \n",
    "    face_locations = face_recognition.face_locations(image)\n",
    "    \n",
    "    img_cv2 = cv2.imread(os.path.join(os.getcwd(), f\"64c5783c513fe900cd712d52/{filename}\"))\n",
    "    \n",
    "    top, right, bottom, left = face_locations[0]\n",
    "    \n",
    "    cropped_face = img_cv2[top:bottom, left:right]\n",
    "    \n",
    "    grayscale_image = cv2.cvtColor(cropped_face, cv2.COLOR_BGR2GRAY)\n",
    "    \n",
    "    scaled_cropped_grayscale_image = cv2.resize(grayscale_image, (40, 40))\n",
    "    \n",
    "    x.append(scaled_cropped_grayscale_image)\n",
    "        \n",
    "    y.append(1)\n",
    "                         "
   ]
  },
  {
   "cell_type": "code",
   "execution_count": 72,
   "id": "2bb9640c",
   "metadata": {},
   "outputs": [],
   "source": [
    "class_list = ['Wisdom', 'Joshua']"
   ]
  },
  {
   "cell_type": "code",
   "execution_count": 97,
   "id": "48cca318",
   "metadata": {},
   "outputs": [
    {
     "data": {
      "text/plain": [
       "array([0, 0, 0, 0, 0, 0, 0, 1, 1, 1])"
      ]
     },
     "execution_count": 97,
     "metadata": {},
     "output_type": "execute_result"
    }
   ],
   "source": [
    "X = np.array(x)\n",
    "Y = np.array(y)\n",
    "\n",
    "Y"
   ]
  },
  {
   "cell_type": "code",
   "execution_count": 56,
   "id": "e87a6eaf",
   "metadata": {},
   "outputs": [],
   "source": [
    "# x = [numpy.array(i)/255.0 for i in x]"
   ]
  },
  {
   "cell_type": "code",
   "execution_count": 86,
   "id": "cc3c9c4b",
   "metadata": {},
   "outputs": [
    {
     "data": {
      "text/plain": [
       "(8, 8)"
      ]
     },
     "execution_count": 86,
     "metadata": {},
     "output_type": "execute_result"
    }
   ],
   "source": [
    "x_train, x_test, y_train, y_test = train_test_split(X, Y, test_size=0.2)\n",
    "\n",
    "len(x_train), len(y_train)"
   ]
  },
  {
   "cell_type": "code",
   "execution_count": 87,
   "id": "8a42fcfe",
   "metadata": {},
   "outputs": [
    {
     "data": {
      "text/plain": [
       "(8, 40, 40)"
      ]
     },
     "execution_count": 87,
     "metadata": {},
     "output_type": "execute_result"
    }
   ],
   "source": [
    "numpy.array(x_train).shape"
   ]
  },
  {
   "cell_type": "code",
   "execution_count": 91,
   "id": "1f765804",
   "metadata": {},
   "outputs": [],
   "source": [
    "model = tf.keras.models.Sequential([\n",
    "    tf.keras.layers.Conv2D(32, (3, 3), activation='relu', input_shape=(40, 40, 1)),\n",
    "    tf.keras.layers.MaxPooling2D((2, 2)),\n",
    "    \n",
    "    tf.keras.layers.Conv2D(64, (3, 3), activation='relu'),\n",
    "    tf.keras.layers.MaxPooling2D((2, 2)),\n",
    "    \n",
    "    tf.keras.layers.Flatten(),\n",
    "    tf.keras.layers.Dense(64, activation='relu'),\n",
    "    tf.keras.layers.Dense(2, activation='softmax')\n",
    "])"
   ]
  },
  {
   "cell_type": "code",
   "execution_count": 92,
   "id": "b0b68d1c",
   "metadata": {},
   "outputs": [
    {
     "name": "stdout",
     "output_type": "stream",
     "text": [
      "Model: \"sequential_11\"\n",
      "_________________________________________________________________\n",
      " Layer (type)                Output Shape              Param #   \n",
      "=================================================================\n",
      " conv2d_22 (Conv2D)          (None, 38, 38, 32)        320       \n",
      "                                                                 \n",
      " max_pooling2d_22 (MaxPoolin  (None, 19, 19, 32)       0         \n",
      " g2D)                                                            \n",
      "                                                                 \n",
      " conv2d_23 (Conv2D)          (None, 17, 17, 64)        18496     \n",
      "                                                                 \n",
      " max_pooling2d_23 (MaxPoolin  (None, 8, 8, 64)         0         \n",
      " g2D)                                                            \n",
      "                                                                 \n",
      " flatten_11 (Flatten)        (None, 4096)              0         \n",
      "                                                                 \n",
      " dense_22 (Dense)            (None, 64)                262208    \n",
      "                                                                 \n",
      " dense_23 (Dense)            (None, 2)                 130       \n",
      "                                                                 \n",
      "=================================================================\n",
      "Total params: 281,154\n",
      "Trainable params: 281,154\n",
      "Non-trainable params: 0\n",
      "_________________________________________________________________\n"
     ]
    }
   ],
   "source": [
    "model.summary()"
   ]
  },
  {
   "cell_type": "code",
   "execution_count": 104,
   "id": "3c14bafe",
   "metadata": {},
   "outputs": [
    {
     "name": "stdout",
     "output_type": "stream",
     "text": [
      "Epoch 1/30\n",
      "1/1 [==============================] - 1s 903ms/step - loss: 0.2504 - accuracy: 1.0000\n",
      "Epoch 2/30\n",
      "1/1 [==============================] - 0s 29ms/step - loss: 1.2661 - accuracy: 0.6250\n",
      "Epoch 3/30\n",
      "1/1 [==============================] - 0s 22ms/step - loss: 0.3928 - accuracy: 0.6250\n",
      "Epoch 4/30\n",
      "1/1 [==============================] - 0s 25ms/step - loss: 0.1263 - accuracy: 1.0000\n",
      "Epoch 5/30\n",
      "1/1 [==============================] - 0s 27ms/step - loss: 0.2798 - accuracy: 0.8750\n",
      "Epoch 6/30\n",
      "1/1 [==============================] - 0s 29ms/step - loss: 0.1588 - accuracy: 1.0000\n",
      "Epoch 7/30\n",
      "1/1 [==============================] - 0s 28ms/step - loss: 0.1135 - accuracy: 1.0000\n",
      "Epoch 8/30\n",
      "1/1 [==============================] - 0s 29ms/step - loss: 0.2133 - accuracy: 1.0000\n",
      "Epoch 9/30\n",
      "1/1 [==============================] - 0s 29ms/step - loss: 0.0939 - accuracy: 1.0000\n",
      "Epoch 10/30\n",
      "1/1 [==============================] - 0s 27ms/step - loss: 0.0864 - accuracy: 1.0000\n",
      "Epoch 11/30\n",
      "1/1 [==============================] - 0s 29ms/step - loss: 0.1281 - accuracy: 1.0000\n",
      "Epoch 12/30\n",
      "1/1 [==============================] - 0s 29ms/step - loss: 0.0964 - accuracy: 1.0000\n",
      "Epoch 13/30\n",
      "1/1 [==============================] - 0s 28ms/step - loss: 0.0530 - accuracy: 1.0000\n",
      "Epoch 14/30\n",
      "1/1 [==============================] - 0s 36ms/step - loss: 0.0493 - accuracy: 1.0000\n",
      "Epoch 15/30\n",
      "1/1 [==============================] - 0s 34ms/step - loss: 0.0613 - accuracy: 1.0000\n",
      "Epoch 16/30\n",
      "1/1 [==============================] - 0s 29ms/step - loss: 0.0567 - accuracy: 1.0000\n",
      "Epoch 17/30\n",
      "1/1 [==============================] - 0s 27ms/step - loss: 0.0401 - accuracy: 1.0000\n",
      "Epoch 18/30\n",
      "1/1 [==============================] - 0s 23ms/step - loss: 0.0265 - accuracy: 1.0000\n",
      "Epoch 19/30\n",
      "1/1 [==============================] - 0s 27ms/step - loss: 0.0194 - accuracy: 1.0000\n",
      "Epoch 20/30\n",
      "1/1 [==============================] - 0s 30ms/step - loss: 0.0183 - accuracy: 1.0000\n",
      "Epoch 21/30\n",
      "1/1 [==============================] - 0s 26ms/step - loss: 0.0193 - accuracy: 1.0000\n",
      "Epoch 22/30\n",
      "1/1 [==============================] - 0s 27ms/step - loss: 0.0182 - accuracy: 1.0000\n",
      "Epoch 23/30\n",
      "1/1 [==============================] - 0s 23ms/step - loss: 0.0150 - accuracy: 1.0000\n",
      "Epoch 24/30\n",
      "1/1 [==============================] - 0s 31ms/step - loss: 0.0110 - accuracy: 1.0000\n",
      "Epoch 25/30\n",
      "1/1 [==============================] - 0s 24ms/step - loss: 0.0081 - accuracy: 1.0000\n",
      "Epoch 26/30\n",
      "1/1 [==============================] - 0s 34ms/step - loss: 0.0072 - accuracy: 1.0000\n",
      "Epoch 27/30\n",
      "1/1 [==============================] - 0s 20ms/step - loss: 0.0074 - accuracy: 1.0000\n",
      "Epoch 28/30\n",
      "1/1 [==============================] - 0s 35ms/step - loss: 0.0077 - accuracy: 1.0000\n",
      "Epoch 29/30\n",
      "1/1 [==============================] - 0s 20ms/step - loss: 0.0069 - accuracy: 1.0000\n",
      "Epoch 30/30\n",
      "1/1 [==============================] - 0s 42ms/step - loss: 0.0055 - accuracy: 1.0000\n",
      "WARNING:tensorflow:6 out of the last 6 calls to <function Model.make_test_function.<locals>.test_function at 0x00000278392A10D0> triggered tf.function retracing. Tracing is expensive and the excessive number of tracings could be due to (1) creating @tf.function repeatedly in a loop, (2) passing tensors with different shapes, (3) passing Python objects instead of tensors. For (1), please define your @tf.function outside of the loop. For (2), @tf.function has reduce_retracing=True option that can avoid unnecessary retracing. For (3), please refer to https://www.tensorflow.org/guide/function#controlling_retracing and https://www.tensorflow.org/api_docs/python/tf/function for  more details.\n",
      "1/1 [==============================] - 0s 446ms/step - loss: 0.1096 - accuracy: 1.0000\n"
     ]
    },
    {
     "data": {
      "text/plain": [
       "(0.10960393399000168, 1.0)"
      ]
     },
     "execution_count": 104,
     "metadata": {},
     "output_type": "execute_result"
    }
   ],
   "source": [
    "model.compile(optimizer=\"adam\", loss=\"sparse_categorical_crossentropy\", metrics=[\"accuracy\"])\n",
    "\n",
    "model.fit(x_train, y_train, epochs=30)\n",
    "\n",
    "test_loss, test_acc = model.evaluate(x_test, y_test)\n",
    "\n",
    "test_loss, test_acc"
   ]
  },
  {
   "cell_type": "code",
   "execution_count": 108,
   "id": "a844b732",
   "metadata": {},
   "outputs": [
    {
     "data": {
      "text/plain": [
       "<matplotlib.image.AxesImage at 0x278347f59a0>"
      ]
     },
     "execution_count": 108,
     "metadata": {},
     "output_type": "execute_result"
    },
    {
     "data": {
      "image/png": "[encoded data removed]",
      "text/plain": [
       "<Figure size 432x288 with 1 Axes>"
      ]
     },
     "metadata": {
      "needs_background": "light"
     },
     "output_type": "display_data"
    }
   ],
   "source": [
    "plt.imshow(x_test[1])"
   ]
  },
  {
   "cell_type": "code",
   "execution_count": 107,
   "id": "7c3ecffb",
   "metadata": {},
   "outputs": [
    {
     "name": "stdout",
     "output_type": "stream",
     "text": [
      "1/1 [==============================] - 0s 30ms/step\n",
      "Wisdom 0\n"
     ]
    }
   ],
   "source": [
    "prediction = model.predict(x_test)\n",
    "\n",
    "p = class_list[np.argmax(prediction[1])]\n",
    "\n",
    "print(p, y_test[1])"
   ]
  },
  {
   "cell_type": "code",
   "execution_count": 109,
   "id": "6b3dd98f",
   "metadata": {},
   "outputs": [],
   "source": [
    "model.save(\"tf_face_model.h5\")"
   ]
  },
  {
   "cell_type": "code",
   "execution_count": null,
   "id": "1777d5c0",
   "metadata": {},
   "outputs": [],
   "source": []
  }
 ],
 "metadata": {
  "kernelspec": {
   "display_name": "Python 3 (ipykernel)",
   "language": "python",
   "name": "python3"
  },
  "language_info": {
   "codemirror_mode": {
    "name": "ipython",
    "version": 3
   },
   "file_extension": ".py",
   "mimetype": "text/x-python",
   "name": "python",
   "nbconvert_exporter": "python",
   "pygments_lexer": "ipython3",
   "version": "3.9.1"
  }
 },
 "nbformat": 4,
 "nbformat_minor": 5
}
