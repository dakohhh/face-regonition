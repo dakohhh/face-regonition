{
 "cells": [
  {
   "cell_type": "code",
   "execution_count": 2,
   "id": "4cb39746-424d-44b8-aade-44be8a0b2ae2",
   "metadata": {},
   "outputs": [],
   "source": [
    "from sklearn.model_selection import train_test_split\n",
    "import tensorflow as tf\n",
    "import numpy\n",
    "import os\n",
    "import cv2\n",
    "import matplotlib.pyplot as plt\n",
    "from sklearn.linear_model import LogisticRegression"
   ]
  },
  {
   "cell_type": "code",
   "execution_count": 3,
   "id": "2cc8fb70",
   "metadata": {},
   "outputs": [],
   "source": [
    "import face_recognition"
   ]
  },
  {
   "cell_type": "code",
   "execution_count": null,
   "id": "39407366-766f-423f-a988-b89ea00a8d8f",
   "metadata": {},
   "outputs": [],
   "source": [
    "x = []\n",
    "\n",
    "y = []\n",
    "\n",
    "\n",
    "for filename in os.listdir(os.path.join(os.getcwd(), \"64c5514934b192a36e68ab14\")):\n",
    "    print(filename)\n",
    "    image = face_recognition.load_image_file(os.path.join(os.getcwd(), \"64c5514934b192a36e68ab14\", filename))\n",
    "    \n",
    "    face_locations = face_recognition.face_locations(image)\n",
    "    \n",
    "    img_cv2 = cv2.imread(os.path.join(os.getcwd(), f\"64c5514934b192a36e68ab14/{filename}\"))    \n",
    "    \n",
    "    top, right, bottom, left = face_locations[0]\n",
    "    \n",
    "    cropped_face = img_cv2[top:bottom, left:right]\n",
    "    \n",
    "    grayscale_image = cv2.cvtColor(cropped_face, cv2.COLOR_BGR2GRAY)\n",
    "    \n",
    "    scaled_cropped_grayscale_image = cv2.resize(grayscale_image, (40, 40))\n",
    "    \n",
    "    x.append(scaled_cropped_grayscale_image)\n",
    "    \n",
    "    y.append(0)\n",
    "                         "
   ]
  },
  {
   "cell_type": "code",
   "execution_count": null,
   "id": "59950a07",
   "metadata": {},
   "outputs": [],
   "source": [
    "for filename in os.listdir(os.path.join(os.getcwd(), \"64c5783c513fe900cd712d52\")):\n",
    "    print(filename)\n",
    "    image = face_recognition.load_image_file(os.path.join(os.getcwd(), \"64c5783c513fe900cd712d52\", filename))\n",
    "    \n",
    "    face_locations = face_recognition.face_locations(image)\n",
    "    \n",
    "    img_cv2 = cv2.imread(os.path.join(os.getcwd(), f\"64c5783c513fe900cd712d52/{filename}\"))\n",
    "    \n",
    "    top, right, bottom, left = face_locations[0]\n",
    "    \n",
    "    cropped_face = img_cv2[top:bottom, left:right]\n",
    "    \n",
    "    grayscale_image = cv2.cvtColor(cropped_face, cv2.COLOR_BGR2GRAY)\n",
    "    \n",
    "    scaled_cropped_grayscale_image = cv2.resize(grayscale_image, (40, 40))\n",
    "    \n",
    "    x.append(scaled_cropped_grayscale_image)\n",
    "        \n",
    "    y.append(1)\n",
    "                         "
   ]
  },
  {
   "cell_type": "code",
   "execution_count": 55,
   "id": "f06ceaf9",
   "metadata": {},
   "outputs": [],
   "source": [
    "class_list = ['Wisdom', 'Joshua']"
   ]
  },
  {
   "cell_type": "code",
   "execution_count": 56,
   "id": "e87a6eaf",
   "metadata": {},
   "outputs": [],
   "source": [
    "x = [numpy.array(i)/255.0 for i in x]"
   ]
  },
  {
   "cell_type": "code",
   "execution_count": 57,
   "id": "cc3c9c4b",
   "metadata": {},
   "outputs": [
    {
     "data": {
      "text/plain": [
       "(8, 8)"
      ]
     },
     "execution_count": 57,
     "metadata": {},
     "output_type": "execute_result"
    }
   ],
   "source": [
    "x_train, x_test, y_train, y_test = train_test_split(x, y, test_size=0.2)\n",
    "\n",
    "len(x_train), len(y_train)"
   ]
  },
  {
   "cell_type": "code",
   "execution_count": 58,
   "id": "7352d46b",
   "metadata": {},
   "outputs": [],
   "source": [
    "# RESIZZING THE IMAGES\n",
    "\n",
    "x_train_resized = numpy.array([cv2.resize(img, (28, 28)) for img in x_train])\n",
    "\n",
    "x_test_resized = numpy.array([cv2.resize(img, (28, 28)) for img in x_test])"
   ]
  },
  {
   "cell_type": "code",
   "execution_count": 59,
   "id": "1f765804",
   "metadata": {},
   "outputs": [],
   "source": [
    "model = tf.keras.models.Sequential([\n",
    "    tf.keras.layers.Conv2D(32, (3, 3), activation='relu', input_shape=(28, 28, 3)),\n",
    "    tf.keras.layers.MaxPooling2D((2, 2)),\n",
    "    \n",
    "    tf.keras.layers.Conv2D(64, (3, 3), activation='relu'),\n",
    "    tf.keras.layers.MaxPooling2D((2, 2)),\n",
    "    \n",
    "    tf.keras.layers.Flatten(),\n",
    "    tf.keras.layers.Dense(64, activation='relu'),\n",
    "    tf.keras.layers.Dense(2, activation='softmax')\n",
    "])"
   ]
  },
  {
   "cell_type": "code",
   "execution_count": 60,
   "id": "b0b68d1c",
   "metadata": {},
   "outputs": [
    {
     "name": "stdout",
     "output_type": "stream",
     "text": [
      "Model: \"sequential_6\"\n",
      "_________________________________________________________________\n",
      " Layer (type)                Output Shape              Param #   \n",
      "=================================================================\n",
      " conv2d_12 (Conv2D)          (None, 26, 26, 32)        896       \n",
      "                                                                 \n",
      " max_pooling2d_12 (MaxPoolin  (None, 13, 13, 32)       0         \n",
      " g2D)                                                            \n",
      "                                                                 \n",
      " conv2d_13 (Conv2D)          (None, 11, 11, 64)        18496     \n",
      "                                                                 \n",
      " max_pooling2d_13 (MaxPoolin  (None, 5, 5, 64)         0         \n",
      " g2D)                                                            \n",
      "                                                                 \n",
      " flatten_6 (Flatten)         (None, 1600)              0         \n",
      "                                                                 \n",
      " dense_12 (Dense)            (None, 64)                102464    \n",
      "                                                                 \n",
      " dense_13 (Dense)            (None, 2)                 130       \n",
      "                                                                 \n",
      "=================================================================\n",
      "Total params: 121,986\n",
      "Trainable params: 121,986\n",
      "Non-trainable params: 0\n",
      "_________________________________________________________________\n"
     ]
    }
   ],
   "source": [
    "model.summary()"
   ]
  },
  {
   "cell_type": "code",
   "execution_count": 61,
   "id": "3c14bafe",
   "metadata": {},
   "outputs": [],
   "source": [
    "model.compile(optimizer='adam', loss='sparse_categorical_crossentropy', metrics=['accuracy'])"
   ]
  },
  {
   "cell_type": "code",
   "execution_count": 62,
   "id": "604669c8",
   "metadata": {},
   "outputs": [
    {
     "data": {
      "text/plain": [
       "(28, 28, 3)"
      ]
     },
     "execution_count": 62,
     "metadata": {},
     "output_type": "execute_result"
    }
   ],
   "source": [
    "x_train_resized[0].shape"
   ]
  },
  {
   "cell_type": "code",
   "execution_count": 63,
   "id": "e2070f5e",
   "metadata": {},
   "outputs": [
    {
     "name": "stdout",
     "output_type": "stream",
     "text": [
      "Epoch 1/20\n",
      "1/1 [==============================] - 1s 660ms/step - loss: 0.7396 - accuracy: 0.2500\n",
      "Epoch 2/20\n",
      "1/1 [==============================] - 0s 20ms/step - loss: 0.5698 - accuracy: 0.7500\n",
      "Epoch 3/20\n",
      "1/1 [==============================] - 0s 18ms/step - loss: 0.5321 - accuracy: 0.7500\n",
      "Epoch 4/20\n",
      "1/1 [==============================] - 0s 16ms/step - loss: 0.5398 - accuracy: 0.7500\n",
      "Epoch 5/20\n",
      "1/1 [==============================] - 0s 22ms/step - loss: 0.5377 - accuracy: 0.7500\n",
      "Epoch 6/20\n",
      "1/1 [==============================] - 0s 16ms/step - loss: 0.5217 - accuracy: 0.7500\n",
      "Epoch 7/20\n",
      "1/1 [==============================] - 0s 22ms/step - loss: 0.5041 - accuracy: 0.7500\n",
      "Epoch 8/20\n",
      "1/1 [==============================] - 0s 16ms/step - loss: 0.4929 - accuracy: 0.7500\n",
      "Epoch 9/20\n",
      "1/1 [==============================] - 0s 23ms/step - loss: 0.4843 - accuracy: 0.7500\n",
      "Epoch 10/20\n",
      "1/1 [==============================] - 0s 15ms/step - loss: 0.4736 - accuracy: 0.7500\n",
      "Epoch 11/20\n",
      "1/1 [==============================] - 0s 22ms/step - loss: 0.4591 - accuracy: 0.7500\n",
      "Epoch 12/20\n",
      "1/1 [==============================] - 0s 15ms/step - loss: 0.4461 - accuracy: 0.7500\n",
      "Epoch 13/20\n",
      "1/1 [==============================] - 0s 15ms/step - loss: 0.4349 - accuracy: 0.7500\n",
      "Epoch 14/20\n",
      "1/1 [==============================] - 0s 22ms/step - loss: 0.4212 - accuracy: 0.7500\n",
      "Epoch 15/20\n",
      "1/1 [==============================] - 0s 22ms/step - loss: 0.4046 - accuracy: 0.7500\n",
      "Epoch 16/20\n",
      "1/1 [==============================] - 0s 16ms/step - loss: 0.3871 - accuracy: 0.7500\n",
      "Epoch 17/20\n",
      "1/1 [==============================] - 0s 23ms/step - loss: 0.3700 - accuracy: 0.7500\n",
      "Epoch 18/20\n",
      "1/1 [==============================] - 0s 15ms/step - loss: 0.3505 - accuracy: 0.7500\n",
      "Epoch 19/20\n",
      "1/1 [==============================] - 0s 21ms/step - loss: 0.3305 - accuracy: 0.7500\n",
      "Epoch 20/20\n",
      "1/1 [==============================] - 0s 18ms/step - loss: 0.3111 - accuracy: 0.7500\n"
     ]
    },
    {
     "data": {
      "text/plain": [
       "<keras.callbacks.History at 0x27839220c40>"
      ]
     },
     "execution_count": 63,
     "metadata": {},
     "output_type": "execute_result"
    }
   ],
   "source": [
    "model.fit(numpy.array(x_train_resized), numpy.array(y_train), epochs=20, batch_size=32)"
   ]
  },
  {
   "cell_type": "code",
   "execution_count": 64,
   "id": "88122f86",
   "metadata": {},
   "outputs": [
    {
     "name": "stdout",
     "output_type": "stream",
     "text": [
      "1/1 [==============================] - 0s 234ms/step - loss: 0.5519 - accuracy: 0.5000\n"
     ]
    },
    {
     "data": {
      "text/plain": [
       "0.5"
      ]
     },
     "execution_count": 64,
     "metadata": {},
     "output_type": "execute_result"
    }
   ],
   "source": [
    "test_loss, test_accuracy = model.evaluate(x_test_resized, numpy.array(y_test))\n",
    "\n",
    "test_accuracy"
   ]
  },
  {
   "cell_type": "code",
   "execution_count": 65,
   "id": "a844b732",
   "metadata": {},
   "outputs": [
    {
     "data": {
      "text/plain": [
       "<matplotlib.image.AxesImage at 0x27834641250>"
      ]
     },
     "execution_count": 65,
     "metadata": {},
     "output_type": "execute_result"
    },
    {
     "data": {
      "image/png": "[encoded data removed]",
      "text/plain": [
       "<Figure size 432x288 with 1 Axes>"
      ]
     },
     "metadata": {
      "needs_background": "light"
     },
     "output_type": "display_data"
    }
   ],
   "source": [
    "plt.imshow(x_test_resized[1])"
   ]
  },
  {
   "cell_type": "code",
   "execution_count": 66,
   "id": "7c3ecffb",
   "metadata": {},
   "outputs": [
    {
     "name": "stdout",
     "output_type": "stream",
     "text": [
      "1/1 [==============================] - 0s 101ms/step\n"
     ]
    },
    {
     "data": {
      "text/plain": [
       "array([[0.86149424, 0.13850574],\n",
       "       [0.6150649 , 0.38493505]], dtype=float32)"
      ]
     },
     "execution_count": 66,
     "metadata": {},
     "output_type": "execute_result"
    }
   ],
   "source": [
    "pred = model.predict(x_test_resized)\n",
    "\n",
    "pred"
   ]
  },
  {
   "cell_type": "code",
   "execution_count": 1,
   "id": "ba4a071e",
   "metadata": {},
   "outputs": [
    {
     "ename": "NameError",
     "evalue": "name 'model' is not defined",
     "output_type": "error",
     "traceback": [
      "\u001b[1;31m---------------------------------------------------------------------------\u001b[0m",
      "\u001b[1;31mNameError\u001b[0m                                 Traceback (most recent call last)",
      "\u001b[1;32m~\\AppData\\Local\\Temp/ipykernel_20308/219157398.py\u001b[0m in \u001b[0;36m<module>\u001b[1;34m\u001b[0m\n\u001b[1;32m----> 1\u001b[1;33m \u001b[0mmodel\u001b[0m\u001b[1;33m.\u001b[0m\u001b[0msave\u001b[0m\u001b[1;33m(\u001b[0m\u001b[1;34m\"tf_face_model.h5\"\u001b[0m\u001b[1;33m)\u001b[0m\u001b[1;33m\u001b[0m\u001b[1;33m\u001b[0m\u001b[0m\n\u001b[0m",
      "\u001b[1;31mNameError\u001b[0m: name 'model' is not defined"
     ]
    }
   ],
   "source": [
    "model.save(\"tf_face_model.h5\")"
   ]
  },
  {
   "cell_type": "code",
   "execution_count": null,
   "id": "ad22283a",
   "metadata": {},
   "outputs": [],
   "source": []
  }
 ],
 "metadata": {
  "kernelspec": {
   "display_name": "Python 3 (ipykernel)",
   "language": "python",
   "name": "python3"
  },
  "language_info": {
   "codemirror_mode": {
    "name": "ipython",
    "version": 3
   },
   "file_extension": ".py",
   "mimetype": "text/x-python",
   "name": "python",
   "nbconvert_exporter": "python",
   "pygments_lexer": "ipython3",
   "version": "3.9.1"
  }
 },
 "nbformat": 4,
 "nbformat_minor": 5
}
