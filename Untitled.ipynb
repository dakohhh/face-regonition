{
 "cells": [
  {
   "cell_type": "code",
   "execution_count": 1,
   "id": "d53e1dd7",
   "metadata": {},
   "outputs": [],
   "source": [
    "import os \n",
    "import cv2\n",
    "import face_recognition\n"
   ]
  },
  {
   "cell_type": "code",
   "execution_count": 5,
   "id": "045572d2",
   "metadata": {},
   "outputs": [
    {
     "name": "stdout",
     "output_type": "stream",
     "text": [
      "64c5514934b192a36e68ab14\n",
      "C:\\Users\\Hp\\Dropbox\\PC\\Documents\\PROGRAMMING\\PYTHON MACHINE LEARNING\\PROJECTS\\FACE RECOGNITION\\static/model_data\\64c5514934b192a36e68ab14\\0.jpg\n",
      "C:\\Users\\Hp\\Dropbox\\PC\\Documents\\PROGRAMMING\\PYTHON MACHINE LEARNING\\PROJECTS\\FACE RECOGNITION\\static/model_data\\64c5514934b192a36e68ab14\\1.jpg\n",
      "C:\\Users\\Hp\\Dropbox\\PC\\Documents\\PROGRAMMING\\PYTHON MACHINE LEARNING\\PROJECTS\\FACE RECOGNITION\\static/model_data\\64c5514934b192a36e68ab14\\2.jpg\n",
      "C:\\Users\\Hp\\Dropbox\\PC\\Documents\\PROGRAMMING\\PYTHON MACHINE LEARNING\\PROJECTS\\FACE RECOGNITION\\static/model_data\\64c5514934b192a36e68ab14\\3.jpg\n",
      "C:\\Users\\Hp\\Dropbox\\PC\\Documents\\PROGRAMMING\\PYTHON MACHINE LEARNING\\PROJECTS\\FACE RECOGNITION\\static/model_data\\64c5514934b192a36e68ab14\\4.jpg\n",
      "C:\\Users\\Hp\\Dropbox\\PC\\Documents\\PROGRAMMING\\PYTHON MACHINE LEARNING\\PROJECTS\\FACE RECOGNITION\\static/model_data\\64c5514934b192a36e68ab14\\5.jpg\n",
      "C:\\Users\\Hp\\Dropbox\\PC\\Documents\\PROGRAMMING\\PYTHON MACHINE LEARNING\\PROJECTS\\FACE RECOGNITION\\static/model_data\\64c5514934b192a36e68ab14\\6.jpg\n",
      "64c5783c513fe900cd712d52\n",
      "C:\\Users\\Hp\\Dropbox\\PC\\Documents\\PROGRAMMING\\PYTHON MACHINE LEARNING\\PROJECTS\\FACE RECOGNITION\\static/model_data\\64c5783c513fe900cd712d52\\0.jpg\n",
      "C:\\Users\\Hp\\Dropbox\\PC\\Documents\\PROGRAMMING\\PYTHON MACHINE LEARNING\\PROJECTS\\FACE RECOGNITION\\static/model_data\\64c5783c513fe900cd712d52\\1.jpg\n",
      "C:\\Users\\Hp\\Dropbox\\PC\\Documents\\PROGRAMMING\\PYTHON MACHINE LEARNING\\PROJECTS\\FACE RECOGNITION\\static/model_data\\64c5783c513fe900cd712d52\\2.jpg\n"
     ]
    }
   ],
   "source": [
    "\n",
    "output_dir = os.path.join(os.getcwd(), \"static/model_data_2\")\n",
    "\n",
    "for entry in os.scandir(os.path.join(os.getcwd(), \"static/model_data\")):\n",
    "    if entry.is_dir():\n",
    "        count = 0\n",
    "        class_id = entry.path.split(\"\\\\\")[-1]\n",
    "        \n",
    "        print(class_id)\n",
    "\n",
    "        for inner_entry in os.scandir(entry.path):\n",
    "            \n",
    "            print(inner_entry.path)\n",
    "            \n",
    "            image = face_recognition.load_image_file(inner_entry.path)\n",
    "            face_locations = face_recognition.face_locations(image)\n",
    "            \n",
    "            img = cv2.imread(inner_entry.path)\n",
    "\n",
    "            top, right, bottom, left = face_locations[0]\n",
    "            cropped_face = img[top:bottom, left:right]\n",
    "            \n",
    "            \n",
    "            \n",
    "            folder_name =  os.path.join(output_dir, f\"{class_id}\")\n",
    "                                        \n",
    "            os.makedirs(folder_name, exist_ok=True)\n",
    "            \n",
    "            output_filename = os.path.join(folder_name, f\"{count}.jpg\")\n",
    "                                        \n",
    "            cv2.imwrite(output_filename, cropped_face)\n",
    "\n",
    "            count += 1"
   ]
  },
  {
   "cell_type": "code",
   "execution_count": null,
   "id": "49432282",
   "metadata": {},
   "outputs": [],
   "source": []
  }
 ],
 "metadata": {
  "kernelspec": {
   "display_name": "Python 3 (ipykernel)",
   "language": "python",
   "name": "python3"
  },
  "language_info": {
   "codemirror_mode": {
    "name": "ipython",
    "version": 3
   },
   "file_extension": ".py",
   "mimetype": "text/x-python",
   "name": "python",
   "nbconvert_exporter": "python",
   "pygments_lexer": "ipython3",
   "version": "3.9.1"
  }
 },
 "nbformat": 4,
 "nbformat_minor": 5
}
