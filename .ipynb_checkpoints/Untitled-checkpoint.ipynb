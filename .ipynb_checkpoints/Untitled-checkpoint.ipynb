{
 "cells": [
  {
   "cell_type": "code",
   "execution_count": 8,
   "id": "d53e1dd7",
   "metadata": {},
   "outputs": [],
   "source": [
    "import os \n",
    "import cv2\n",
    "import face_recognition\n"
   ]
  },
  {
   "cell_type": "code",
   "execution_count": null,
   "id": "045572d2",
   "metadata": {},
   "outputs": [],
   "source": [
    "\n",
    "output_dir = os.path.join(os.getcwd(), \"static/model_data_2\")\n",
    "\n",
    "for entry in os.scandir(os.path.join(os.getcwd(), \"static/model_data\")):\n",
    "    if entry.is_dir():\n",
    "        count = 0\n",
    "        class_id = entry.path.split(\"\\\\\")[-1]\n",
    "        \n",
    "        print(class_id)\n",
    "\n",
    "#         for inner_entry in os.scandir(entry.path):\n",
    "#             image = face_recognition.load_image_file(inner_entry.path)\n",
    "#             face_locations = face_recognition.face_locations(image)\n",
    "            \n",
    "#             img = cv2.imread(inner_entry.path)\n",
    "\n",
    "#             top, right, bottom, left = face_locations[0]\n",
    "#             cropped_face = img[top:bottom, left:right]\n",
    "\n",
    "#             output_filename = os.path.join(output_dir, f\"{class_id}/{count}.jpg\")\n",
    "#             cv2.imwrite(output_filename, cropped_face)\n",
    "\n",
    "#             count += 1"
   ]
  },
  {
   "cell_type": "code",
   "execution_count": null,
   "id": "49432282",
   "metadata": {},
   "outputs": [],
   "source": []
  }
 ],
 "metadata": {
  "kernelspec": {
   "display_name": "Python 3 (ipykernel)",
   "language": "python",
   "name": "python3"
  },
  "language_info": {
   "codemirror_mode": {
    "name": "ipython",
    "version": 3
   },
   "file_extension": ".py",
   "mimetype": "text/x-python",
   "name": "python",
   "nbconvert_exporter": "python",
   "pygments_lexer": "ipython3",
   "version": "3.9.1"
  }
 },
 "nbformat": 4,
 "nbformat_minor": 5
}
